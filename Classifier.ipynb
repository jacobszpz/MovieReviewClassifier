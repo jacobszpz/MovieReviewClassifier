{
 "cells": [
  {
   "cell_type": "markdown",
   "id": "41b37662",
   "metadata": {},
   "source": [
    "# 1. Load dataset"
   ]
  },
  {
   "cell_type": "markdown",
   "id": "d562c603",
   "metadata": {},
   "source": [
    "First, load the dataset as it was downloaded or load from a cache."
   ]
  },
  {
   "cell_type": "code",
   "execution_count": 1,
   "id": "514feb05",
   "metadata": {},
   "outputs": [],
   "source": [
    "import pickle\n",
    "from pathlib import Path\n",
    "\n",
    "from sklearn.datasets import load_files\n",
    "\n",
    "\n",
    "def load_files_and_pickle(data_dir: str , cache_path: Path):\n",
    "    \"\"\"Load dataset from cache if existent else load from original files and save cache.\"\"\"\n",
    "    dataset = None\n",
    "    \n",
    "    if cache_path.is_file():\n",
    "        with cache_path.open(\"rb\") as f:\n",
    "            dataset = pickle.load(f)\n",
    "    else:\n",
    "        dataset = load_files(data_dir)\n",
    "        \n",
    "        with cache_path.open(\"wb\") as f:\n",
    "            pickle.dump(dataset, f)\n",
    "    return dataset\n",
    "            \n",
    "        \n",
    "reviews_train = load_files_and_pickle(\"aclImdb/train/\", Path(\"acl_train_pickle\"))\n",
    "reviews_test = load_files_and_pickle(\"aclImdb/test/\", Path(\"acl_test_pickle\"))"
   ]
  },
  {
   "cell_type": "markdown",
   "id": "ef2cd6b4",
   "metadata": {},
   "source": [
    "# 2. Filter HTML breakline tags"
   ]
  },
  {
   "cell_type": "markdown",
   "id": "cbeac17a",
   "metadata": {},
   "source": [
    "The reviews are filtered to clear any HTML `<br>` tags, which the reviews still contain."
   ]
  },
  {
   "cell_type": "code",
   "execution_count": 2,
   "id": "c161e29b",
   "metadata": {},
   "outputs": [],
   "source": [
    "train_text = [doc.replace(b\"<br />\", b\" \") for doc in reviews_train.data]\n",
    "test_text = [doc.replace(b\"<br />\", b\" \") for doc in reviews_test.data]\n",
    "# Alias these for later use\n",
    "y_train = reviews_train.target\n",
    "y_test = reviews_test.target"
   ]
  },
  {
   "cell_type": "markdown",
   "id": "31dcd96d",
   "metadata": {},
   "source": [
    "# 3. Create a pipeline with LogisticRegression"
   ]
  },
  {
   "cell_type": "markdown",
   "id": "adf22ef4",
   "metadata": {},
   "source": [
    "In this step, a pipeline is created, which will first run the data through a TfidfVectorizer,\n",
    "which will extract n-grams from the reviews.\n",
    "\n",
    "Then, the LogisticRegression algorithm will be trained with this data."
   ]
  },
  {
   "cell_type": "code",
   "execution_count": 3,
   "id": "960a8f91",
   "metadata": {},
   "outputs": [],
   "source": [
    "import joblib\n",
    "from sklearn.feature_extraction.text import TfidfVectorizer\n",
    "from sklearn.linear_model import LogisticRegression\n",
    "from sklearn.pipeline import make_pipeline\n",
    "\n",
    "model_filename = \"twothumbs.joblib\"\n",
    "ngram_range = (1, 3)\n",
    "logreg_C = 10\n",
    "logreg_max_iter = 500"
   ]
  },
  {
   "cell_type": "code",
   "execution_count": 4,
   "id": "c13dd528",
   "metadata": {},
   "outputs": [],
   "source": [
    "if Path(model_filename).is_file():\n",
    "    pipe = joblib.load(model_filename)\n",
    "else:\n",
    "    pipe = make_pipeline(\n",
    "        TfidfVectorizer(ngram_range=ngram_range, min_df=5),\n",
    "        LogisticRegression(max_iter=logreg_max_iter, solver='saga', C=logreg_C)\n",
    "    )\n",
    "\n",
    "    pipe.fit(train_text, y_train)\n",
    "    joblib.dump(pipe, model_filename)\n"
   ]
  },
  {
   "cell_type": "markdown",
   "id": "bdbd54f5",
   "metadata": {},
   "source": [
    "# 4. Test the model"
   ]
  },
  {
   "cell_type": "markdown",
   "id": "682f32a5",
   "metadata": {},
   "source": [
    "Test the model with random examples."
   ]
  },
  {
   "cell_type": "code",
   "execution_count": 5,
   "id": "1484aeb2",
   "metadata": {},
   "outputs": [
    {
     "data": {
      "text/plain": [
       "array([1, 0])"
      ]
     },
     "execution_count": 5,
     "metadata": {},
     "output_type": "execute_result"
    }
   ],
   "source": [
    "pipe.predict([\"This film was quite good\", \"I did not particularly enjoy the film\"])"
   ]
  },
  {
   "cell_type": "markdown",
   "id": "140f6edc",
   "metadata": {},
   "source": [
    "This calculates the mean accuracy of the model."
   ]
  },
  {
   "cell_type": "code",
   "execution_count": 6,
   "id": "e3bd8982",
   "metadata": {},
   "outputs": [
    {
     "data": {
      "text/plain": [
       "0.90348"
      ]
     },
     "execution_count": 6,
     "metadata": {},
     "output_type": "execute_result"
    }
   ],
   "source": [
    "pipe.score(test_text, y_test)"
   ]
  },
  {
   "cell_type": "markdown",
   "id": "f391ce76",
   "metadata": {},
   "source": [
    "# 5. Loss Curves"
   ]
  },
  {
   "cell_type": "markdown",
   "id": "5e897e4b",
   "metadata": {},
   "source": [
    "With `LearningCurveDisplay`, the score can be shown as a function of the number of samples in the training set"
   ]
  },
  {
   "cell_type": "code",
   "execution_count": null,
   "id": "a21ad5c3",
   "metadata": {},
   "outputs": [],
   "source": [
    "#import matplotlib.pyplot as plt\n",
    "import numpy as np\n",
    "from sklearn.model_selection import LearningCurveDisplay\n",
    "\n",
    "loss_pipe = make_pipeline(\n",
    "    TfidfVectorizer(ngram_range=ngram_range, min_df=5),\n",
    "    LogisticRegression(max_iter=logreg_max_iter, solver='saga', C=logreg_C)\n",
    ")\n",
    "\n",
    "\n",
    "LearningCurveDisplay.from_estimator(loss_pipe, X=train_text, y=y_train)"
   ]
  },
  {
   "cell_type": "code",
   "execution_count": null,
   "id": "6b8e634f",
   "metadata": {},
   "outputs": [],
   "source": []
  }
 ],
 "metadata": {
  "kernelspec": {
   "display_name": "Python 3 (ipykernel)",
   "language": "python",
   "name": "python3"
  },
  "language_info": {
   "codemirror_mode": {
    "name": "ipython",
    "version": 3
   },
   "file_extension": ".py",
   "mimetype": "text/x-python",
   "name": "python",
   "nbconvert_exporter": "python",
   "pygments_lexer": "ipython3",
   "version": "3.10.0"
  }
 },
 "nbformat": 4,
 "nbformat_minor": 5
}
